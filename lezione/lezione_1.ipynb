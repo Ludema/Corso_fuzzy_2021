{
  "nbformat": 4,
  "nbformat_minor": 0,
  "metadata": {
    "colab": {
      "name": "test.ipynb",
      "provenance": [],
      "authorship_tag": "ABX9TyPcZuBNbB00ijxHojSGCgMR"
    },
    "kernelspec": {
      "name": "python3",
      "display_name": "Python 3"
    }
  },
  "cells": [
    {
      "cell_type": "code",
      "metadata": {
        "colab": {
          "base_uri": "https://localhost:8080/"
        },
        "id": "Yh3YFWBWbNss",
        "outputId": "3816cc94-5ae0-4d7a-ec6e-9f4ddcec5614"
      },
      "source": [
        "x = True\n",
        "print('x')"
      ],
      "execution_count": null,
      "outputs": [
        {
          "output_type": "stream",
          "text": [
            "x\n"
          ],
          "name": "stdout"
        }
      ]
    },
    {
      "cell_type": "code",
      "metadata": {
        "colab": {
          "base_uri": "https://localhost:8080/"
        },
        "id": "c6-HifT2bC-T",
        "outputId": "d912d258-9b27-4c67-803a-f5d7b64ffb8e"
      },
      "source": [
        "for _ in {True, False}:\n",
        "  print(f'Il valore di verità è {_}... wow!')"
      ],
      "execution_count": null,
      "outputs": [
        {
          "output_type": "stream",
          "text": [
            "Il valore di verità è False... wow!\n",
            "Il valore di verità è True... wow!\n"
          ],
          "name": "stdout"
        }
      ]
    },
    {
      "cell_type": "code",
      "metadata": {
        "colab": {
          "base_uri": "https://localhost:8080/"
        },
        "id": "pUF4m58YGIal",
        "outputId": "dca57ad7-8ae8-45cf-a7a3-c4394934e870"
      },
      "source": [
        "for l in range(5):\n",
        "  print(l)"
      ],
      "execution_count": null,
      "outputs": [
        {
          "output_type": "stream",
          "text": [
            "0\n",
            "1\n",
            "2\n",
            "3\n",
            "4\n"
          ],
          "name": "stdout"
        }
      ]
    },
    {
      "cell_type": "markdown",
      "metadata": {
        "id": "NvYXR5kkJDF0"
      },
      "source": [
        "for - while"
      ]
    },
    {
      "cell_type": "code",
      "metadata": {
        "colab": {
          "base_uri": "https://localhost:8080/"
        },
        "id": "i8PCPc2hVcaU",
        "outputId": "02ec0458-8372-4627-96e2-aea0cd39ad00"
      },
      "source": [
        "x = True\n",
        "y = False\n",
        "\n",
        "print(x and y)"
      ],
      "execution_count": null,
      "outputs": [
        {
          "output_type": "stream",
          "text": [
            "False\n"
          ],
          "name": "stdout"
        }
      ]
    },
    {
      "cell_type": "markdown",
      "metadata": {
        "id": "sovjjfXBg3yT"
      },
      "source": [
        "# Connettivo AND\n",
        "Di seguito vediamo diversi modi per stampare una tabelle di verità del connettivo AND, con le relative considerazioni in merito al codice scritto."
      ]
    },
    {
      "cell_type": "code",
      "metadata": {
        "colab": {
          "base_uri": "https://localhost:8080/"
        },
        "id": "zoObbD21Vlqa",
        "outputId": "b9f960a5-efff-4b50-f370-03e48b2ab981"
      },
      "source": [
        "\n",
        "valori_possibili = (False, True)\n",
        "\n",
        "for A in valori_possibili:\n",
        "  for B in valori_possibili:\n",
        "    print(f'{A} AND {B} = {A and B}')"
      ],
      "execution_count": null,
      "outputs": [
        {
          "output_type": "stream",
          "text": [
            "False AND False = False\n",
            "False AND True = False\n",
            "True AND False = False\n",
            "True AND True = True\n"
          ],
          "name": "stdout"
        }
      ]
    },
    {
      "cell_type": "code",
      "metadata": {
        "colab": {
          "base_uri": "https://localhost:8080/"
        },
        "id": "dHuxMqjkWV7E",
        "outputId": "0d958e24-7a5a-4a9d-b826-9652b2402695"
      },
      "source": [
        "\n",
        "valori_possibili = (0, 1)\n",
        "\n",
        "for A in valori_possibili:\n",
        "  for B in valori_possibili:\n",
        "    print(f'{A} | {B} | {A * B}')"
      ],
      "execution_count": null,
      "outputs": [
        {
          "output_type": "stream",
          "text": [
            "0 | 0 | 0\n",
            "0 | 1 | 0\n",
            "1 | 0 | 0\n",
            "1 | 1 | 1\n"
          ],
          "name": "stdout"
        }
      ]
    },
    {
      "cell_type": "code",
      "metadata": {
        "colab": {
          "base_uri": "https://localhost:8080/"
        },
        "id": "98Au9u9wXt1e",
        "outputId": "017e6afb-bf89-4fe6-debe-3c0b0987f1c9"
      },
      "source": [
        "valori_possibili = ('F', 'V')\n",
        "\n",
        "for A in valori_possibili:\n",
        "  for B in valori_possibili:\n",
        "    if (A == 'V' and B == 'V'):\n",
        "      print(f'{A} | {B} | {A }')\n",
        "    else:\n",
        "      print(f'{A} | {B} | F')"
      ],
      "execution_count": null,
      "outputs": [
        {
          "output_type": "stream",
          "text": [
            "F | F | F\n",
            "F | V | F\n",
            "V | F | F\n",
            "V | V | V\n"
          ],
          "name": "stdout"
        }
      ]
    }
  ]
}