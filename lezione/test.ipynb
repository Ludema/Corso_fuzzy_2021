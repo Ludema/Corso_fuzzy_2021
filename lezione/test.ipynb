{
  "nbformat": 4,
  "nbformat_minor": 0,
  "metadata": {
    "colab": {
      "name": "test.ipynb",
      "provenance": [],
      "collapsed_sections": [],
      "authorship_tag": "ABX9TyOanNZDpSBJjetgAGfY9euh",
      "include_colab_link": true
    },
    "kernelspec": {
      "name": "python3",
      "display_name": "Python 3"
    }
  },
  "cells": [
    {
      "cell_type": "markdown",
      "metadata": {
        "id": "view-in-github",
        "colab_type": "text"
      },
      "source": [
        "<a href=\"https://colab.research.google.com/github/Ludema/Corso_fuzzy_2021/blob/main/lezione/test.ipynb\" target=\"_parent\"><img src=\"https://colab.research.google.com/assets/colab-badge.svg\" alt=\"Open In Colab\"/></a>"
      ]
    },
    {
      "cell_type": "code",
      "metadata": {
        "colab": {
          "base_uri": "https://localhost:8080/"
        },
        "id": "rSAupKOBCEz6",
        "outputId": "104da3a1-a03a-4778-9a2e-589da999be8f"
      },
      "source": [
        "for _ in {True, False, True}:\n",
        "  print(f'{_}')"
      ],
      "execution_count": null,
      "outputs": [
        {
          "output_type": "stream",
          "text": [
            "False\n",
            "True\n"
          ],
          "name": "stdout"
        }
      ]
    },
    {
      "cell_type": "code",
      "metadata": {
        "colab": {
          "base_uri": "https://localhost:8080/"
        },
        "id": "4FBL6rBoH633",
        "outputId": "1e3f5db9-84bf-4a0d-ac2a-8dde606b8397"
      },
      "source": [
        "for element in range(5):\n",
        "  print(element)"
      ],
      "execution_count": null,
      "outputs": [
        {
          "output_type": "stream",
          "text": [
            "0\n",
            "1\n",
            "2\n",
            "3\n",
            "4\n"
          ],
          "name": "stdout"
        }
      ]
    },
    {
      "cell_type": "code",
      "metadata": {
        "colab": {
          "base_uri": "https://localhost:8080/"
        },
        "id": "FN0KbvSnV84x",
        "outputId": "0d355b4b-401f-4046-de6f-ece188640cb3"
      },
      "source": [
        "valori_possibili = (False,True) \n",
        "print(f'Tavola di verità AND')\n",
        "print(\"+===========================+\")\n",
        "for A in valori_possibili:\n",
        "  for B in valori_possibili:\n",
        "    print(f'   {A} AND {B}  | {A and B}')\n",
        "    print(\"+===========================+\")\n"
      ],
      "execution_count": null,
      "outputs": [
        {
          "output_type": "stream",
          "text": [
            "Tavola di verità AND\n",
            "+===========================+\n",
            "   False AND False  | False\n",
            "+===========================+\n",
            "   False AND True  | False\n",
            "+===========================+\n",
            "   True AND False  | False\n",
            "+===========================+\n",
            "   True AND True  | True\n",
            "+===========================+\n"
          ],
          "name": "stdout"
        }
      ]
    },
    {
      "cell_type": "code",
      "metadata": {
        "colab": {
          "base_uri": "https://localhost:8080/"
        },
        "id": "ndyXMGOuZOfX",
        "outputId": "3126bee3-48c6-4609-85a5-fb74e3916847"
      },
      "source": [
        "valori_possibili = (False,True) \n",
        "print(f'Tavola di verità OR')\n",
        "\n",
        "for A in valori_possibili:\n",
        "  for B in valori_possibili:\n",
        "    print(f'{A} OR {B} | {A or B}')"
      ],
      "execution_count": null,
      "outputs": [
        {
          "output_type": "stream",
          "text": [
            "Tavola di verità AND\n",
            "False OR False | False\n",
            "False OR True | True\n",
            "True OR False | True\n",
            "True OR True | True\n"
          ],
          "name": "stdout"
        }
      ]
    },
    {
      "cell_type": "code",
      "metadata": {
        "colab": {
          "base_uri": "https://localhost:8080/"
        },
        "id": "4vPzNm75ZS8n",
        "outputId": "937907fa-3cce-4e9f-c752-aa1854d7d622"
      },
      "source": [
        "valori_possibili = (False,True) \n",
        "print(f'Tavola di verità A AND NOT B')\n",
        "\n",
        "for A in valori_possibili:\n",
        "  for B in valori_possibili:\n",
        "    print(f'{A} AND ¬{B} | {A and (not B)}')"
      ],
      "execution_count": null,
      "outputs": [
        {
          "output_type": "stream",
          "text": [
            "Tavola di verità NOT\n",
            "False AND ¬False | False\n",
            "False AND ¬True | False\n",
            "True AND ¬False | True\n",
            "True AND ¬True | False\n"
          ],
          "name": "stdout"
        }
      ]
    },
    {
      "cell_type": "code",
      "metadata": {
        "colab": {
          "base_uri": "https://localhost:8080/"
        },
        "id": "prs151a_ahwi",
        "outputId": "ff791f26-3b61-4aa7-dc7d-6c97eb6d4c2b"
      },
      "source": [
        "valori_possibili = (False,True) \n",
        "print(f'Tavola di verità NOT A AND B')\n",
        "\n",
        "for A in valori_possibili:\n",
        "  for B in valori_possibili:\n",
        "    print(f'¬{A} AND {B} | {(not A) and B}')"
      ],
      "execution_count": null,
      "outputs": [
        {
          "output_type": "stream",
          "text": [
            "Tavola di verità NOT\n",
            "¬False AND False | False\n",
            "¬False AND True | True\n",
            "¬True AND False | False\n",
            "¬True AND True | False\n"
          ],
          "name": "stdout"
        }
      ]
    }
  ]
}