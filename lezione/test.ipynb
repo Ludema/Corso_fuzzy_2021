{
  "nbformat": 4,
  "nbformat_minor": 0,
  "metadata": {
    "colab": {
      "name": "test.ipynb",
      "provenance": [],
      "collapsed_sections": [],
      "authorship_tag": "ABX9TyMfObWDhQpByXg7Sq998aKJ",
      "include_colab_link": true
    },
    "kernelspec": {
      "name": "python3",
      "display_name": "Python 3"
    }
  },
  "cells": [
    {
      "cell_type": "markdown",
      "metadata": {
        "id": "view-in-github",
        "colab_type": "text"
      },
      "source": [
        "<a href=\"https://colab.research.google.com/github/Ludema/Corso_fuzzy_2021/blob/main/lezione/test.ipynb\" target=\"_parent\"><img src=\"https://colab.research.google.com/assets/colab-badge.svg\" alt=\"Open In Colab\"/></a>"
      ]
    },
    {
      "cell_type": "code",
      "metadata": {
        "colab": {
          "base_uri": "https://localhost:8080/"
        },
        "id": "rSAupKOBCEz6",
        "outputId": "104da3a1-a03a-4778-9a2e-589da999be8f"
      },
      "source": [
        "for _ in {True, False, True}:\n",
        "  print(f'{_}')"
      ],
      "execution_count": 6,
      "outputs": [
        {
          "output_type": "stream",
          "text": [
            "False\n",
            "True\n"
          ],
          "name": "stdout"
        }
      ]
    },
    {
      "cell_type": "code",
      "metadata": {
        "colab": {
          "base_uri": "https://localhost:8080/"
        },
        "id": "4FBL6rBoH633",
        "outputId": "1e3f5db9-84bf-4a0d-ac2a-8dde606b8397"
      },
      "source": [
        "for element in range(5):\n",
        "  print(element)"
      ],
      "execution_count": 8,
      "outputs": [
        {
          "output_type": "stream",
          "text": [
            "0\n",
            "1\n",
            "2\n",
            "3\n",
            "4\n"
          ],
          "name": "stdout"
        }
      ]
    },
    {
      "cell_type": "code",
      "metadata": {
        "colab": {
          "base_uri": "https://localhost:8080/"
        },
        "id": "FN0KbvSnV84x",
        "outputId": "306de090-8241-48e7-b6b0-19017554586b"
      },
      "source": [
        "valori_possibili = (False,True) \n",
        "print(f'Tavola di verità AND')\n",
        "\n",
        "for A in valori_possibili:\n",
        "  for B in valori_possibili:\n",
        "    print(f'{A} AND {B} | {A and B}')\n",
        "\n"
      ],
      "execution_count": 19,
      "outputs": [
        {
          "output_type": "stream",
          "text": [
            "Tavola di verità AND\n",
            "False AND False | False\n",
            "False AND True | False\n",
            "True AND False | False\n",
            "True AND True | True\n"
          ],
          "name": "stdout"
        }
      ]
    },
    {
      "cell_type": "code",
      "metadata": {
        "colab": {
          "base_uri": "https://localhost:8080/"
        },
        "id": "ndyXMGOuZOfX",
        "outputId": "3126bee3-48c6-4609-85a5-fb74e3916847"
      },
      "source": [
        "valori_possibili = (False,True) \n",
        "print(f'Tavola di verità OR')\n",
        "\n",
        "for A in valori_possibili:\n",
        "  for B in valori_possibili:\n",
        "    print(f'{A} OR {B} | {A or B}')"
      ],
      "execution_count": 20,
      "outputs": [
        {
          "output_type": "stream",
          "text": [
            "Tavola di verità AND\n",
            "False OR False | False\n",
            "False OR True | True\n",
            "True OR False | True\n",
            "True OR True | True\n"
          ],
          "name": "stdout"
        }
      ]
    },
    {
      "cell_type": "code",
      "metadata": {
        "colab": {
          "base_uri": "https://localhost:8080/"
        },
        "id": "4vPzNm75ZS8n",
        "outputId": "0f449316-c9a9-4479-801c-9a5d7ba5599c"
      },
      "source": [
        "valori_possibili = (False,True) \n",
        "print(f'Tavola di verità NOT')\n",
        "\n",
        "for A in valori_possibili:\n",
        "  for B in valori_possibili:\n",
        "    print(f'{A} AND NON {B} | {A and (not B)}')"
      ],
      "execution_count": 29,
      "outputs": [
        {
          "output_type": "stream",
          "text": [
            "Tavola di verità NOT\n",
            "False AND NON False | False\n",
            "False AND NON True | False\n",
            "True AND NON False | True\n",
            "True AND NON True | False\n"
          ],
          "name": "stdout"
        }
      ]
    },
    {
      "cell_type": "code",
      "metadata": {
        "colab": {
          "base_uri": "https://localhost:8080/"
        },
        "id": "prs151a_ahwi",
        "outputId": "97d162bb-1122-431b-9b14-e61b507e0624"
      },
      "source": [
        "valori_possibili = (False,True) \n",
        "print(f'Tavola di verità NOT')\n",
        "\n",
        "for A in valori_possibili:\n",
        "  for B in valori_possibili:\n",
        "    print(f'NON {A} AND {B} | {(not A) and B}')"
      ],
      "execution_count": 30,
      "outputs": [
        {
          "output_type": "stream",
          "text": [
            "Tavola di verità NOT\n",
            "NON False AND False | False\n",
            "NON False AND True | True\n",
            "NON True AND False | False\n",
            "NON True AND True | False\n"
          ],
          "name": "stdout"
        }
      ]
    }
  ]
}