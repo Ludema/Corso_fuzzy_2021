{
  "nbformat": 4,
  "nbformat_minor": 0,
  "metadata": {
    "colab": {
      "name": "lezione_2.ipynb",
      "provenance": [],
      "authorship_tag": "ABX9TyMh5vSS5vooou6MqrCDo7b9"
    },
    "kernelspec": {
      "name": "python3",
      "display_name": "Python 3"
    }
  },
  "cells": [
    {
      "cell_type": "markdown",
      "metadata": {
        "id": "9Y2whtMSw9U-"
      },
      "source": [
        "# Connettivi proposizionali"
      ]
    },
    {
      "cell_type": "markdown",
      "metadata": {
        "id": "PmLQOE32q_04"
      },
      "source": [
        "# Connettivo OR"
      ]
    },
    {
      "cell_type": "code",
      "metadata": {
        "colab": {
          "base_uri": "https://localhost:8080/"
        },
        "id": "XkXMjNdCrEc_",
        "outputId": "ba9f7c21-4e3b-4d97-98d0-be6da4c89218"
      },
      "source": [
        "valori_possibili = (False, True)\n",
        "\n",
        "for A in valori_possibili:\n",
        "  for B in valori_possibili:\n",
        "    print(f'{A} OR {B} = {A or B}')"
      ],
      "execution_count": 1,
      "outputs": [
        {
          "output_type": "stream",
          "text": [
            "False OR False = False\n",
            "False OR True = True\n",
            "True OR False = True\n",
            "True OR True = True\n"
          ],
          "name": "stdout"
        }
      ]
    },
    {
      "cell_type": "markdown",
      "metadata": {
        "id": "pz71ePTPrhlq"
      },
      "source": [
        "# Connettivo XOR"
      ]
    },
    {
      "cell_type": "code",
      "metadata": {
        "colab": {
          "base_uri": "https://localhost:8080/"
        },
        "id": "vxlSNEwlrJbZ",
        "outputId": "fdeb0ccc-f24d-46ca-f61d-42923a4e025c"
      },
      "source": [
        "valori_possibili = (False, True)\n",
        "\n",
        "for A in valori_possibili:\n",
        "  for B in valori_possibili:\n",
        "    print(f'{A} XOR {B} = {(not A and B) or (A and not B)}')"
      ],
      "execution_count": 14,
      "outputs": [
        {
          "output_type": "stream",
          "text": [
            "False XOR False = False\n",
            "False XOR True = True\n",
            "True XOR False = True\n",
            "True XOR True = False\n"
          ],
          "name": "stdout"
        }
      ]
    },
    {
      "cell_type": "markdown",
      "metadata": {
        "id": "JOcmJ58zsNLz"
      },
      "source": [
        "# Connettivo ->"
      ]
    },
    {
      "cell_type": "code",
      "metadata": {
        "id": "aQE4MSEcslRU"
      },
      "source": [
        "def freccia(ipotesi,tesi):\n",
        "  return (not ipotesi or tesi)"
      ],
      "execution_count": 9,
      "outputs": []
    },
    {
      "cell_type": "code",
      "metadata": {
        "colab": {
          "base_uri": "https://localhost:8080/"
        },
        "id": "s_Uz0i21rzhk",
        "outputId": "a26c14f1-93fb-4dd0-b71a-dd189910191e"
      },
      "source": [
        "valori_possibili = (False, True)\n",
        "\n",
        "for A in valori_possibili:\n",
        "  for B in valori_possibili:\n",
        "    print(f'{A} -> {B} = {freccia(A,B)}')"
      ],
      "execution_count": 11,
      "outputs": [
        {
          "output_type": "stream",
          "text": [
            "False -> False = True\n",
            "False -> True = True\n",
            "True -> False = False\n",
            "True -> True = True\n"
          ],
          "name": "stdout"
        }
      ]
    },
    {
      "cell_type": "markdown",
      "metadata": {
        "id": "k1yjtJcXuofD"
      },
      "source": [
        "# Connettivo NOT"
      ]
    },
    {
      "cell_type": "code",
      "metadata": {
        "colab": {
          "base_uri": "https://localhost:8080/"
        },
        "id": "nRShOHWVsd9h",
        "outputId": "f5e0b525-3ab0-493b-b30a-5e1147fb51df"
      },
      "source": [
        "valori_possibili = (False, True)\n",
        "\n",
        "for A in valori_possibili:\n",
        "  print(f'NOT {A} = {not A} ')"
      ],
      "execution_count": 12,
      "outputs": [
        {
          "output_type": "stream",
          "text": [
            "NOT False = True \n",
            "NOT True = False \n"
          ],
          "name": "stdout"
        }
      ]
    },
    {
      "cell_type": "markdown",
      "metadata": {
        "id": "7RT49FjXu-59"
      },
      "source": [
        "# Connettivo AND via NOT e OR"
      ]
    },
    {
      "cell_type": "code",
      "metadata": {
        "colab": {
          "base_uri": "https://localhost:8080/"
        },
        "id": "uFsTZuD6uieV",
        "outputId": "94a983b1-5835-4840-ec66-eb03cb80f631"
      },
      "source": [
        "valori_possibili = (False, True)\n",
        "\n",
        "for A in valori_possibili:\n",
        "  for B in valori_possibili:\n",
        "    print(f'{A} AND {B} = {not( (not A) or (not B) )}')"
      ],
      "execution_count": 13,
      "outputs": [
        {
          "output_type": "stream",
          "text": [
            "False AND False = False\n",
            "False AND True = False\n",
            "True AND False = False\n",
            "True AND True = True\n"
          ],
          "name": "stdout"
        }
      ]
    },
    {
      "cell_type": "markdown",
      "metadata": {
        "id": "7ODRjyxjBH3_"
      },
      "source": [
        "# Libreria funzioni connettivi"
      ]
    },
    {
      "cell_type": "code",
      "metadata": {
        "id": "ISlOj9MlvM7H"
      },
      "source": [
        "def e(var1,var2):\n",
        "  return var1 and var2\n",
        "\n",
        "def o(var1,var2):\n",
        "  return var1 or var2\n",
        "\n",
        "def freccia(ipotesi,tesi):\n",
        "  return (not ipotesi or tesi)\n",
        "\n",
        "def oppure(var1,var2):\n",
        "  return (not var1 and var2) or (var1 and not var2)"
      ],
      "execution_count": 18,
      "outputs": []
    },
    {
      "cell_type": "code",
      "metadata": {
        "id": "erzzLXI4zXhU"
      },
      "source": [
        "def stampa_tabella(formula):\n",
        "  valori_possibili = (False, True)\n",
        "\n",
        "  for A in valori_possibili:\n",
        "    for B in valori_possibili:\n",
        "      print(f'{formula(A,B)}')"
      ],
      "execution_count": 19,
      "outputs": []
    },
    {
      "cell_type": "code",
      "metadata": {
        "colab": {
          "base_uri": "https://localhost:8080/"
        },
        "id": "_Lk1OEnG0J2J",
        "outputId": "cb234286-7bf2-4566-96e3-008abe9d35c7"
      },
      "source": [
        "stampa_tabella(oppure)"
      ],
      "execution_count": 21,
      "outputs": [
        {
          "output_type": "stream",
          "text": [
            "False\n",
            "True\n",
            "True\n",
            "False\n"
          ],
          "name": "stdout"
        }
      ]
    },
    {
      "cell_type": "code",
      "metadata": {
        "id": "dLTBvOZ70MWS"
      },
      "source": [
        ""
      ],
      "execution_count": null,
      "outputs": []
    }
  ]
}