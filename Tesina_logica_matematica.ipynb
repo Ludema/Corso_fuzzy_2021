{
  "nbformat": 4,
  "nbformat_minor": 0,
  "metadata": {
    "colab": {
      "name": "Tesina logica matematica.ipynb",
      "provenance": [],
      "collapsed_sections": [],
      "toc_visible": true,
      "authorship_tag": "ABX9TyPBmpmkVwcvCjjYlW0Ym2E8",
      "include_colab_link": true
    },
    "kernelspec": {
      "name": "python3",
      "display_name": "Python 3"
    }
  },
  "cells": [
    {
      "cell_type": "markdown",
      "metadata": {
        "id": "view-in-github",
        "colab_type": "text"
      },
      "source": [
        "<a href=\"https://colab.research.google.com/github/Ludema/Corso_fuzzy_2021/blob/main/Tesina_logica_matematica.ipynb\" target=\"_parent\"><img src=\"https://colab.research.google.com/assets/colab-badge.svg\" alt=\"Open In Colab\"/></a>"
      ]
    },
    {
      "cell_type": "markdown",
      "metadata": {
        "id": "Ic7cuZhB_lBF"
      },
      "source": [
        "##Test\n",
        "Creare un jupyter notebook\n",
        "descrivi brevemente il ruolo della logica ed i diversi tipi di logica studiati\n",
        "implementare i connettivi logici come funzioni in python\n",
        "testare le funzioni\n",
        "implementare una funzione che stampa la tabella di verità di una formula interpretata nella logica classica e nella logica di Lukasiewicz a 3 valori\n",
        "stampare le funzioni di verità delle seguenti formule :\n",
        "\n",
        "A or (not A)\n",
        "\n",
        "not A -> B\n",
        "\n",
        "pubblicare il notebook su una repository di GitHub\n",
        "inviare il link della repository ed il notebook in formato .pdf alle email: gvitale@unisa.it e ifts@scuolalatecnica.it\n"
      ]
    },
    {
      "cell_type": "markdown",
      "metadata": {
        "id": "GDQMguaHDHMm"
      },
      "source": [
        "#La logica\n",
        "\n",
        "##Cos'è la logica\n",
        "La logica è lo studio del ragionamento ed è tradizionalmente una disciplina filosofica. Essa riguarda numerose attività intellettuali, tecniche e scientifiche quali matematica, semantica e informatica. In ambito matematico la logica è lo studio dell'inferenza cioè attuare un processo (induttivo o deduttivo) attraverso il quale trarre una conclusione vera.\n",
        "\n",
        "##Tipi di logica\n",
        "Ci sono diversi tipi di logica ma quelle prese in esame in questo corso sono quella classica e quella di Lukasiewicz. \n",
        "\n",
        "La logica classica è un linguaggio formale in cui gli unici valori presi in esame sono falso o vero, spesso identificati in informatica con 0 e 1 rispettivamente. \n",
        "\n",
        "Con l'avanzare degli studi alla logica classica è stata aggiunta la logica polivalente detta anche logica fuzzy. Questo tipo di logica prende in esame i valori compresi tra i valori di verità classici, e non solo quest'ultimi.\n",
        "\n",
        "Nel campo della logica i connettivi e i valori sono detti formule. Alcuni di questi vengono espressi sottoforma di funzioni in linguaggio Python nei seguenti blocchi di codice.\n"
      ]
    },
    {
      "cell_type": "markdown",
      "metadata": {
        "id": "6vy7Np7-J2Tl"
      },
      "source": [
        "Valori di verità"
      ]
    },
    {
      "cell_type": "code",
      "metadata": {
        "id": "fZRgPHNFJ5jF"
      },
      "source": [
        "logic_values = (False,True)"
      ],
      "execution_count": null,
      "outputs": []
    },
    {
      "cell_type": "markdown",
      "metadata": {
        "id": "ucPXUiydJrf-"
      },
      "source": [
        "####Connettivo AND o Congiunzione\n",
        "Questo tipo di connettivo è comunemente associato all'operazione della moltiplicazione."
      ]
    },
    {
      "cell_type": "code",
      "metadata": {
        "colab": {
          "base_uri": "https://localhost:8080/"
        },
        "id": "vlZxeQ2zJo5B",
        "outputId": "c0043293-04ed-4a48-8355-1b0f76782bb6"
      },
      "source": [
        "print(f'Tavola di verità della Congiunzione\\n')\n",
        "print('|--------------------------|')\n",
        "for A in logic_values:\n",
        "  for B in logic_values:\n",
        "    #Formattazione del testo uniformando lo spazio occupato dai valori di verità\n",
        "    print(f'| {str(A):6} ∧  {str(B):6}| {str(A and B):7}|')\n",
        "    print('|--------------------------|')"
      ],
      "execution_count": null,
      "outputs": [
        {
          "output_type": "stream",
          "text": [
            "Tavola di verità della Congiunzione\n",
            "\n",
            "|--------------------------|\n",
            "| False  ∧  False | False  |\n",
            "|--------------------------|\n",
            "| False  ∧  True  | False  |\n",
            "|--------------------------|\n",
            "| True   ∧  False | False  |\n",
            "|--------------------------|\n",
            "| True   ∧  True  | True   |\n",
            "|--------------------------|\n"
          ],
          "name": "stdout"
        }
      ]
    },
    {
      "cell_type": "markdown",
      "metadata": {
        "id": "pjjU2dhYUogD"
      },
      "source": [
        "####Connettivo OR o Disgiunzione\n",
        "Questo tipo di connettivo è comunemente associato all'operazione dell'addizione."
      ]
    },
    {
      "cell_type": "code",
      "metadata": {
        "colab": {
          "base_uri": "https://localhost:8080/"
        },
        "id": "rvPnXbFCUvuL",
        "outputId": "dc68aa39-2478-4236-e94d-7e1e86017b92"
      },
      "source": [
        "print(f'Tavola di verità della Disgiunzione\\n')\n",
        "print('|--------------------------|')\n",
        "for A in logic_values:\n",
        "  for B in logic_values:\n",
        "     #Formattazione del testo uniformando lo spazio occupato dai valori di verità\n",
        "    print(f'| {str(A):6} V {str(B):6} | {str(A or B):7}|')\n",
        "    print('|--------------------------|')"
      ],
      "execution_count": null,
      "outputs": [
        {
          "output_type": "stream",
          "text": [
            "Tavola di verità della Disgiunzione\n",
            "\n",
            "|--------------------------|\n",
            "| False  V False  | False  |\n",
            "|--------------------------|\n",
            "| False  V True   | True   |\n",
            "|--------------------------|\n",
            "| True   V False  | True   |\n",
            "|--------------------------|\n",
            "| True   V True   | True   |\n",
            "|--------------------------|\n"
          ],
          "name": "stdout"
        }
      ]
    },
    {
      "cell_type": "markdown",
      "metadata": {
        "id": "DapCdq-IVpud"
      },
      "source": [
        "####Connettivo NOT o Negazione\n",
        "Questo tipo di connettivo permette di ottenere il valore negato preso in esame."
      ]
    },
    {
      "cell_type": "code",
      "metadata": {
        "colab": {
          "base_uri": "https://localhost:8080/"
        },
        "id": "E92lM6aLWE-w",
        "outputId": "fb3e8d95-1319-44a0-b3cf-68dfbebde30c"
      },
      "source": [
        "print(f'Tavola di verità della Negazione\\n')\n",
        "print('|---------------------|')\n",
        "for A in logic_values:\n",
        "   #Formattazione del testo uniformando lo spazio occupato dai valori di verità\n",
        "  print(f'|  ¬ {str(A):6} |  {str(not A):6} |')\n",
        "  print('|---------------------|')"
      ],
      "execution_count": null,
      "outputs": [
        {
          "output_type": "stream",
          "text": [
            "Tavola di verità della Negazione\n",
            "\n",
            "|---------------------|\n",
            "|  ¬ False  |  True   |\n",
            "|---------------------|\n",
            "|  ¬ True   |  False  |\n",
            "|---------------------|\n"
          ],
          "name": "stdout"
        }
      ]
    },
    {
      "cell_type": "markdown",
      "metadata": {
        "id": "lssmtnBfXFSK"
      },
      "source": [
        "####Connettivo XOR o Disgiunzione esclusiva\n",
        "\n",
        "L'or esclusivo è un operazione che restituisce il risultato TRUE se i suoi operandi sono discordi."
      ]
    },
    {
      "cell_type": "code",
      "metadata": {
        "colab": {
          "base_uri": "https://localhost:8080/"
        },
        "id": "ECppPKm0X3L5",
        "outputId": "24c6f424-82a4-4f29-fa30-8c59e0dd6a64"
      },
      "source": [
        "print(f'Tavola di verità della Disgiunzione esclusiva\\n')\n",
        "print('|--------------------------|')\n",
        "for A in logic_values:\n",
        "  for B in logic_values:\n",
        "     #Formattazione del testo uniformando lo spazio occupato dai valori di verità\n",
        "    print(f'| {str(A):6} V {str(B):6} | {str(A != B):7}|')\n",
        "    print('|--------------------------|')"
      ],
      "execution_count": null,
      "outputs": [
        {
          "output_type": "stream",
          "text": [
            "Tavola di verità XOR o Disgiunzione esclusiva\n",
            "\n",
            "|--------------------------|\n",
            "| False  V False  | False  |\n",
            "|--------------------------|\n",
            "| False  V True   | True   |\n",
            "|--------------------------|\n",
            "| True   V False  | True   |\n",
            "|--------------------------|\n",
            "| True   V True   | False  |\n",
            "|--------------------------|\n"
          ],
          "name": "stdout"
        }
      ]
    },
    {
      "cell_type": "markdown",
      "metadata": {
        "id": "LZ-FMlaOY7-F"
      },
      "source": [
        "####Connettivo --> o Implicazione\n",
        "\n",
        "Questo connettivo si riferisce al legame tra la proposione antecedente con la sua conseguente."
      ]
    },
    {
      "cell_type": "code",
      "metadata": {
        "colab": {
          "base_uri": "https://localhost:8080/"
        },
        "id": "_z57exwqZcH3",
        "outputId": "04761024-fdf2-46dd-92da-a12fc1a038f5"
      },
      "source": [
        "print(f'Tavola di verità dell\\'Implicazione\\n')\n",
        "print('|--------------------------|')\n",
        "for A in logic_values:\n",
        "  for B in logic_values:\n",
        "     #Formattazione del testo uniformando lo spazio occupato dai valori di verità\n",
        "    print(f'| {str(A):6} -> {str(B):6} | {str(not A or B):6}|')\n",
        "    print('|--------------------------|')"
      ],
      "execution_count": null,
      "outputs": [
        {
          "output_type": "stream",
          "text": [
            "Tavola di verità dell'Implicazione\n",
            "\n",
            "|--------------------------|\n",
            "| False  -> False  | True  |\n",
            "|--------------------------|\n",
            "| False  -> True   | True  |\n",
            "|--------------------------|\n",
            "| True   -> False  | False |\n",
            "|--------------------------|\n",
            "| True   -> True   | True  |\n",
            "|--------------------------|\n"
          ],
          "name": "stdout"
        }
      ]
    },
    {
      "cell_type": "markdown",
      "metadata": {
        "id": "Nt5etJkmS43z"
      },
      "source": [
        "Risoluzione "
      ]
    },
    {
      "cell_type": "code",
      "metadata": {
        "id": "ryd4YCT00pM3"
      },
      "source": [
        "def congiunzione(var1,var2, logica):\n",
        "  if logica == 'classica':\n",
        "    return var1 and var2\n",
        "  else:\n",
        "   return min(var1,var2)\n",
        "\n",
        "def disgiunzione(var1,var2, logica):\n",
        "  if logica == 'classica':\n",
        "    return var1 or var2\n",
        "  else:\n",
        "    return max(var1, var2)\n",
        "\n",
        "def implicazione(a,b, logica):\n",
        "  if logica == 'classica':\n",
        "    return (not a or b)\n",
        "  else:\n",
        "    return min(1, 1 - a + b)\n",
        "\n",
        "def xor(var1,var2, logica):\n",
        "  if logica == 'classica':\n",
        "    return (not var1 and var2) or (var1 and not var2)\n",
        "  else:\n",
        "    return abs(var1 - var2)\n",
        "\n",
        "def equivalenza(var1,var2, logica):\n",
        "  if logica == 'classica':\n",
        "    return ((var1 and var2) or (not var1 and not var2))\n",
        "  else:\n",
        "    return (1 - abs(var1 - var2))\n",
        "\n",
        "def negazione(var1):\n",
        "  if logica == 'classica':\n",
        "    return not var1\n",
        "  else:\n",
        "    return 1 - var1"
      ],
      "execution_count": 195,
      "outputs": []
    },
    {
      "cell_type": "code",
      "metadata": {
        "id": "XET9LZ0z0rnq"
      },
      "source": [
        "valori_logici = ()\n",
        "\n",
        "def stampaTabella(operazione, logica, segno, values):\n",
        "\n",
        "    global valori_logici\n",
        "    if logica == 'classica':\n",
        "      valori_logici = (False,True)\n",
        "    else:\n",
        "      valori_logici = (float(values[0]),float(values[1]))\n",
        "    if operazione == 'negazione':\n",
        "      print(f'Tavola di verità della Negazione\\n')\n",
        "      print('|---------------------|')\n",
        "      for A in valori_logici:\n",
        "      #Formattazione testo uniformando lo spazio occupato dai valori di verità\n",
        "        print(f'|  ¬ {str(A):6} |  {str(eval(operazione+\"(A)\")):6} |')\n",
        "        print('|---------------------|')\n",
        "    else:\n",
        "        print(f'Tavola di verità della {operazione.capitalize()}\\n')\n",
        "        print('|--------------------------|')\n",
        "        for A in valori_logici:\n",
        "          for B in valori_logici:\n",
        "            print(f'| {str(A):6} {segno} {str(B):6}| {str(eval(operazione+\"(A, B, logica)\")):6}|')\n",
        "            print('|--------------------------|')"
      ],
      "execution_count": 196,
      "outputs": []
    },
    {
      "cell_type": "code",
      "metadata": {
        "id": "TweUYNnc0v4X"
      },
      "source": [
        "\n",
        "logica = ''\n",
        "operazione = ''\n",
        "check = 'no'\n",
        "valori = []\n",
        "step = 0\n",
        "\n",
        "def tavola(logica, operazione):\n",
        "    if operazione == 'congiunzione': \n",
        "      segno = 'and'\n",
        "    elif operazione == 'disgiunzione': \n",
        "      segno = 'or '\n",
        "    elif operazione == 'implicazione':\n",
        "      segno = '-> '\n",
        "    elif operazione == 'xor':\n",
        "      segno = ' ⊕ '\n",
        "    elif operazione == 'equivalenza':\n",
        "      segno = \"<=>\"\n",
        "    elif operazione == 'negazione':\n",
        "      segno = ''\n",
        "    else:\n",
        "      print('Operazione non trovato')\n",
        "    stampaTabella(operazione, logica, segno, valori)\n",
        "    \n",
        "def programma(logica, operazione): \n",
        "  global check \n",
        "  \n",
        "  #Richiamo la funzione per stampare le tavole\n",
        "  tavola(logica, operazione)\n",
        "  while check == 'no':  \n",
        "    check = input('Vuoi terminare il programma? si/no: ').lower()\n",
        "    if check == 'si':\n",
        "      check = 'si'\n",
        "    elif check == 'no':\n",
        "      sceltaparametri()\n",
        "    else:\n",
        "      print('Comando non riconosciuto')\n",
        "      check = 'no'\n",
        "\n",
        "def sceltaparametri():\n",
        "  global logica\n",
        "  global operazione\n",
        "  global valori\n",
        "  global steps\n",
        "  logica = input('Inserisci il tipo di logica tra classica o lukasiewicz: ')\n",
        "  logiche = ('classica','lukasiewicz')\n",
        "  while logica not in logiche:\n",
        "      logica = input('Inserisci il tipo di logica tra classica o lukasiewicz: ')\n",
        "      logica = logica\n",
        "\n",
        "  operazione = input('Le operazioni che si possono eseguire sono:\\n -congiunzione\\n -disgiunzione\\n -implicazione\\n -xor\\n -negazione\\n -equivalenza\\n Inserisci operazione: ')\n",
        "  operazioni = ('congiunzione', 'disgiunzione', 'implicazione', 'xor', 'negazione', 'equivalenza')\n",
        "  while operazione not in operazioni:\n",
        "      operazione = input('Le operazioni che si possono eseguire sono:\\n -congiunzione\\n -disgiunzione\\n -implicazione\\n -xor\\n -negazione\\n -equivalenza\\n Inserisci operazione: ')\n",
        "      operazione = operazione\n",
        "\n",
        "  if logica == 'lukasiewicz':\n",
        "    valore1 = input('Inserisci il primo valore: ')\n",
        "    valore2 = input('Inserisci il secondo valore: ')\n",
        "    \n",
        "    valori.append(valore1)\n",
        "    valori.append(valore2)\n",
        "    \n",
        "  programma(logica,operazione)\n",
        "\n",
        "\n",
        "def avviaProgramma():\n",
        "  print('Benvenuto\\n')\n",
        "  sceltaparametri()\n",
        "  print('A presto!')\n"
      ],
      "execution_count": 197,
      "outputs": []
    },
    {
      "cell_type": "markdown",
      "metadata": {
        "id": "f41XR06wH9CW"
      },
      "source": [
        ""
      ]
    },
    {
      "cell_type": "markdown",
      "metadata": {
        "id": "W2oiIng_01iA"
      },
      "source": [
        "#####-ATTENZIONE- Se il programma non esegue le dovute richieste si prega di riavviare tutti i moduli o ricaricare la pagina."
      ]
    },
    {
      "cell_type": "code",
      "metadata": {
        "id": "KFLTJ9Qf0zUx",
        "colab": {
          "base_uri": "https://localhost:8080/",
          "height": 0
        },
        "outputId": "922d60b7-7ee8-4744-f954-aaba31487bb1"
      },
      "source": [
        "avviaProgramma()"
      ],
      "execution_count": 198,
      "outputs": [
        {
          "output_type": "stream",
          "text": [
            "Benvenuto\n",
            "\n",
            "Inserisci il tipo di logica tra classica o lukasiewicz: classica\n",
            "Le operazioni che si possono eseguire sono:\n",
            " -congiunzione\n",
            " -disgiunzione\n",
            " -implicazione\n",
            " -xor\n",
            " -negazione\n",
            " -equivalenza\n",
            " Inserisci operazione: congiunzione\n",
            "Tavola di verità della Congiunzione\n",
            "\n",
            "|--------------------------|\n",
            "| False  and False | False |\n",
            "|--------------------------|\n",
            "| False  and True  | False |\n",
            "|--------------------------|\n",
            "| True   and False | False |\n",
            "|--------------------------|\n",
            "| True   and True  | True  |\n",
            "|--------------------------|\n",
            "Vuoi terminare il programma? si/no: no\n",
            "Inserisci il tipo di logica tra classica o lukasiewicz: lukasiewicz\n",
            "Le operazioni che si possono eseguire sono:\n",
            " -congiunzione\n",
            " -disgiunzione\n",
            " -implicazione\n",
            " -xor\n",
            " -negazione\n",
            " -equivalenza\n",
            " Inserisci operazione: congiunzione\n",
            "Inserisci il primo valore: 0.2\n",
            "Inserisci il secondo valore: 0.5\n",
            "Tavola di verità della Congiunzione\n",
            "\n",
            "|--------------------------|\n",
            "| 0.2    and 0.2   | 0.2   |\n",
            "|--------------------------|\n",
            "| 0.2    and 0.5   | 0.2   |\n",
            "|--------------------------|\n",
            "| 0.5    and 0.2   | 0.2   |\n",
            "|--------------------------|\n",
            "| 0.5    and 0.5   | 0.5   |\n",
            "|--------------------------|\n",
            "Vuoi terminare il programma? si/no: si\n",
            "A presto!\n"
          ],
          "name": "stdout"
        }
      ]
    },
    {
      "cell_type": "markdown",
      "metadata": {
        "id": "ZvfmlMkT8z-u"
      },
      "source": [
        "Stampare le funzioni di verità delle seguenti formule.\n",
        "\n",
        "A or (not A)"
      ]
    },
    {
      "cell_type": "code",
      "metadata": {
        "colab": {
          "base_uri": "https://localhost:8080/"
        },
        "id": "BDstaRHw8260",
        "outputId": "6bda2228-f7c3-4765-99dd-8b3f70bfac4a"
      },
      "source": [
        "A = (False) \n",
        "print(f'Tavola di verità')\n",
        "print(f'{A} OR NOT {A} = {A or not A}')"
      ],
      "execution_count": null,
      "outputs": [
        {
          "output_type": "stream",
          "text": [
            "Tavola di verità\n",
            "False OR NOT False = True\n"
          ],
          "name": "stdout"
        }
      ]
    },
    {
      "cell_type": "markdown",
      "metadata": {
        "id": "PnYfD2-c9wLB"
      },
      "source": [
        "not A -> B"
      ]
    },
    {
      "cell_type": "code",
      "metadata": {
        "colab": {
          "base_uri": "https://localhost:8080/"
        },
        "id": "-19Ux8uT9nmr",
        "outputId": "5d0b5fc0-82b3-42f1-e213-caecb704cc7f"
      },
      "source": [
        "valori_logici = (False,True)\n",
        "print(f'Tavola di verità')\n",
        "print('|--------------------------|')\n",
        "for A in valori_logici:\n",
        "  for B in valori_logici:\n",
        "     #Formattazione del testo uniformando lo spazio occupato dai valori di verità\n",
        "    print(f'| {str(A):6} | {str(B):6} =  {str(not (not A) or B):6}|')\n",
        "    print('|--------------------------|')\n"
      ],
      "execution_count": null,
      "outputs": [
        {
          "output_type": "stream",
          "text": [
            "Tavola di verità\n",
            "|--------------------------|\n",
            "| False  | False  =  False |\n",
            "|--------------------------|\n",
            "| False  | True   =  True  |\n",
            "|--------------------------|\n",
            "| True   | False  =  True  |\n",
            "|--------------------------|\n",
            "| True   | True   =  True  |\n",
            "|--------------------------|\n"
          ],
          "name": "stdout"
        }
      ]
    },
    {
      "cell_type": "markdown",
      "metadata": {
        "id": "Q0jT7C-r_j9m"
      },
      "source": [
        ""
      ]
    }
  ]
}